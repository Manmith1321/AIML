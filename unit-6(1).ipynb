{
  "nbformat": 4,
  "nbformat_minor": 0,
  "metadata": {
    "colab": {
      "provenance": [],
      "authorship_tag": "ABX9TyNiBsrbve8Dv+SvL0khT+Ca",
      "include_colab_link": true
    },
    "kernelspec": {
      "name": "python3",
      "display_name": "Python 3"
    },
    "language_info": {
      "name": "python"
    }
  },
  "cells": [
    {
      "cell_type": "markdown",
      "metadata": {
        "id": "view-in-github",
        "colab_type": "text"
      },
      "source": [
        "<a href=\"https://colab.research.google.com/github/Manmith1321/AIML/blob/main/unit-6(1).ipynb\" target=\"_parent\"><img src=\"https://colab.research.google.com/assets/colab-badge.svg\" alt=\"Open In Colab\"/></a>"
      ]
    },
    {
      "cell_type": "code",
      "execution_count": 2,
      "metadata": {
        "colab": {
          "base_uri": "https://localhost:8080/"
        },
        "id": "3kGJX9GOrsr6",
        "outputId": "e8eaee53-9132-4cf8-b67a-f08d94070279"
      },
      "outputs": [
        {
          "output_type": "stream",
          "name": "stdout",
          "text": [
            "1.3\n"
          ]
        }
      ],
      "source": [
        "inputs = [1,2,3]\n",
        "weights = [0.2, 0.3, -0.5]\n",
        "bias=2\n",
        "\n",
        "output = inputs[0]*weights[0]+inputs[1]*weights[1]+inputs[2]*weights[2]+bias\n",
        "print(output)"
      ]
    },
    {
      "cell_type": "code",
      "source": [
        "inputs = [0.4, 0.3, 1, 0.8]\n",
        "weights1=  [0.3, 0.2, 0.1, 0.4]\n",
        "weights2 = [0.4, 0.1, -0.1, 0.2]\n",
        "weights3 = [0.2, -0.2, -0.1, 0.8]\n",
        "\n",
        "bias1 = 0.5\n",
        "bias2 = 0.3\n",
        "bias3 = 0.6\n",
        "\n",
        "output = [inputs[0]*weights1[0]+inputs[1]*weights1[1]+inputs[2]*weights1[2]+inputs[3]*weights1[3]+bias1,\n",
        "          inputs[0]*weights2[0]+inputs[1]*weights2[1]+inputs[2]*weights2[2]+inputs[3]*weights2[3]+bias2,\n",
        "          inputs[0]*weights3[0]+inputs[1]*weights3[1]+inputs[2]*weights3[2]+inputs[3]*weights3[3]+bias3]\n",
        "\n",
        "print(output)\n",
        ""
      ],
      "metadata": {
        "colab": {
          "base_uri": "https://localhost:8080/"
        },
        "id": "IguhDGvzv5CJ",
        "outputId": "36efa890-039d-4df3-b720-3157ea3b1a97"
      },
      "execution_count": 6,
      "outputs": [
        {
          "output_type": "stream",
          "name": "stdout",
          "text": [
            "[1.1, 0.55, 1.1600000000000001]\n"
          ]
        }
      ]
    },
    {
      "cell_type": "code",
      "source": [
        "import numpy as np\n",
        "\n",
        "inputs = np.array([0.4, 0.3, 1, 0.8])\n",
        "weights = np.array([\n",
        "\n",
        "     [0.3, 0.2, 0.1, 0.4],\n",
        "     [0.4, 0.1, -0.1, 0.2],\n",
        "     [0.2, -0.2, -0.1, 0.8],\n",
        "\n",
        "\n",
        "])\n",
        "\n",
        "biases = np.array([0.5,0.3,0.6])\n",
        "\n",
        "output = np.dot(weights,inputs)+biases\n",
        "print(output)\n"
      ],
      "metadata": {
        "colab": {
          "base_uri": "https://localhost:8080/"
        },
        "id": "dWX1bLCp0zV_",
        "outputId": "01233a18-6058-47bd-ee0d-239a21116158"
      },
      "execution_count": 13,
      "outputs": [
        {
          "output_type": "stream",
          "name": "stdout",
          "text": [
            "[1.1  0.55 1.16]\n"
          ]
        }
      ]
    },
    {
      "cell_type": "code",
      "source": [
        "import numpy as np\n",
        "def relu(x):\n",
        "  return np.maximum(0,x)\n",
        "inputs=np.array([0.4,0.3,1,0.8])\n",
        "weights= np.array([\n",
        "    [0.3,0.2,0.1,0.4],\n",
        "     [0.4,0.1,-0.1,0.2],\n",
        "      [0.2,-0.2,-0.1,0.8]\n",
        "])\n",
        "biases=np.array([0.5,0.3,0.6])\n",
        "output=np.dot(weights,inputs)+biases\n",
        "output=relu(output)\n",
        "print(output)"
      ],
      "metadata": {
        "colab": {
          "base_uri": "https://localhost:8080/"
        },
        "id": "6P5ED1gf8QyV",
        "outputId": "a4081dc0-4316-4d68-8847-69e72d5b6c7a"
      },
      "execution_count": 14,
      "outputs": [
        {
          "output_type": "stream",
          "name": "stdout",
          "text": [
            "[1.1  0.55 1.16]\n"
          ]
        }
      ]
    },
    {
      "cell_type": "code",
      "source": [
        "import numpy as np\n",
        "\n",
        "def sigmoid(x):\n",
        "  return 1/(1+np.exp(-x))\n",
        "def relu(x):\n",
        "  return np.maximum(0,x)\n",
        "  inputs=np.array([0.4,0.3,1,0.8])\n",
        "weights= np.array([\n",
        "    [0.3,0.2,0.1,0.4],\n",
        "     [0.4,0.1,-0.1,0.2],\n",
        "      [0.2,-0.2,-0.1,0.8]\n",
        "])\n",
        "biases=np.array([0.5,0.3,0.6])\n",
        "output=np.dot(weights,inputs)+biases\n",
        "output1=relu(output)\n",
        "print(output1)\n",
        "output2=sigmoid(output)\n",
        "print(output2)\n",
        "\n",
        "\n"
      ],
      "metadata": {
        "colab": {
          "base_uri": "https://localhost:8080/"
        },
        "id": "O-SxEw2r8c5B",
        "outputId": "802a2b30-00c9-40de-9aaa-6d60238f08e6"
      },
      "execution_count": 19,
      "outputs": [
        {
          "output_type": "stream",
          "name": "stdout",
          "text": [
            "[1.1  0.55 1.16]\n",
            "[0.75026011 0.63413559 0.76133271]\n"
          ]
        }
      ]
    }
  ]
}